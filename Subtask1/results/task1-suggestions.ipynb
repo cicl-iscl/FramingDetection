{
 "cells": [
  {
   "cell_type": "code",
   "execution_count": 1,
   "id": "07ce3373",
   "metadata": {},
   "outputs": [
    {
     "ename": "ModuleNotFoundError",
     "evalue": "No module named 'transformers'",
     "output_type": "error",
     "traceback": [
      "\u001b[0;31m---------------------------------------------------------------------------\u001b[0m",
      "\u001b[0;31mModuleNotFoundError\u001b[0m                       Traceback (most recent call last)",
      "Input \u001b[0;32mIn [1]\u001b[0m, in \u001b[0;36m<cell line: 2>\u001b[0;34m()\u001b[0m\n\u001b[1;32m      1\u001b[0m \u001b[38;5;28;01mimport\u001b[39;00m \u001b[38;5;21;01mos\u001b[39;00m\n\u001b[0;32m----> 2\u001b[0m \u001b[38;5;28;01mfrom\u001b[39;00m \u001b[38;5;21;01mtransformers\u001b[39;00m \u001b[38;5;28;01mimport\u001b[39;00m AutoTokenizer, AutoModelForSequenceClassification\n\u001b[1;32m      3\u001b[0m \u001b[38;5;28;01mimport\u001b[39;00m \u001b[38;5;21;01mtorch\u001b[39;00m\n\u001b[1;32m      4\u001b[0m \u001b[38;5;28;01mimport\u001b[39;00m \u001b[38;5;21;01mnumpy\u001b[39;00m \u001b[38;5;28;01mas\u001b[39;00m \u001b[38;5;21;01mnp\u001b[39;00m\n",
      "\u001b[0;31mModuleNotFoundError\u001b[0m: No module named 'transformers'"
     ]
    }
   ],
   "source": [
    "import os\n",
    "from transformers import AutoTokenizer, AutoModelForSequenceClassification\n",
    "import torch\n",
    "import numpy as np\n",
    "from matplotlib import pyplot as plt\n",
    "from sklearn.feature_extraction.text import CountVectorizer, TfidfVectorizer\n",
    "from sklearn.linear_model import LogisticRegression"
   ]
  },
  {
   "cell_type": "code",
   "execution_count": 2,
   "id": "053db6d7",
   "metadata": {},
   "outputs": [],
   "source": [
    "def read_data(input_folder, labels_folder=None):\n",
    "    # This is slightly different version of your make_dataframe()\n",
    "    # instead of making a dataframe it returns two lists,\n",
    "    # one with texts the other one with corresponding labels.\n",
    "    # Using a dict initially is just a safeguard for making sure\n",
    "    # text/label matches even if they are not sorted correctly.\n",
    "    text, label = dict(), dict()    \n",
    "    for fname in os.listdir(input_folder):\n",
    "        tid = fname.replace('article', '').replace('.txt', '')\n",
    "        with open(os.path.join(input_folder, fname), 'r') as f:\n",
    "            text[tid] = f.read().strip()   \n",
    "    if labels_folder:\n",
    "        with open(labels_folder, 'rt') as f:\n",
    "            for line in f:\n",
    "                lid, l = line.strip().split()\n",
    "                label[lid] = l    \n",
    "        assert set(label.keys()) == set(text.keys())\n",
    "    if label:\n",
    "        return [text[k] for k in text], [label[k] for k in text]\n",
    "    else:\n",
    "        return [text[k] for k in text]"
   ]
  },
  {
   "cell_type": "code",
   "execution_count": 3,
   "id": "030cf09e",
   "metadata": {},
   "outputs": [],
   "source": [
    "train_txt, train_lab = read_data('Data/data/en/train-articles-subtask-1/', 'Data/data/en/train-labels-subtask-1.txt')"
   ]
  },
  {
   "cell_type": "code",
   "execution_count": 4,
   "id": "0efd7ee3",
   "metadata": {},
   "outputs": [
    {
     "data": {
      "text/plain": [
       "(108, 7571, 908.6120092378753, 0.6628175519630485)"
      ]
     },
     "execution_count": 4,
     "metadata": {},
     "output_type": "execute_result"
    },
    {
     "data": {
      "image/png": "[encoded data removed]",
      "text/plain": [
       "<Figure size 640x480 with 1 Axes>"
      ]
     },
     "metadata": {},
     "output_type": "display_data"
    }
   ],
   "source": [
    "lendist = [len(s.split()) for s in train_txt]\n",
    "_ = plt.hist(lendist)\n",
    "min(lendist), max(lendist), sum(lendist)/len(lendist), sum([l > 512 for l in lendist])/len(lendist)\n",
    "# What this shows is that most of your texts are rather long.\n",
    "# Not a problem for traditional models with sparse features,\n",
    "# but use of tokenizers from bert-like models may make things complicated.\n"
   ]
  },
  {
   "cell_type": "code",
   "execution_count": 5,
   "id": "198a9495",
   "metadata": {},
   "outputs": [
    {
     "data": {
      "application/json": {
       "ascii": false,
       "bar_format": null,
       "colour": null,
       "elapsed": 0.014468669891357422,
       "initial": 0,
       "n": 0,
       "ncols": null,
       "nrows": 47,
       "postfix": null,
       "prefix": "Downloading",
       "rate": null,
       "total": 29,
       "unit": "B",
       "unit_divisor": 1000,
       "unit_scale": true
      },
      "application/vnd.jupyter.widget-view+json": {
       "model_id": "8b9be2f8cac2474ab1dcc2c21afe98c3",
       "version_major": 2,
       "version_minor": 0
      },
      "text/plain": [
       "Downloading:   0%|          | 0.00/29.0 [00:00<?, ?B/s]"
      ]
     },
     "metadata": {},
     "output_type": "display_data"
    },
    {
     "data": {
      "application/json": {
       "ascii": false,
       "bar_format": null,
       "colour": null,
       "elapsed": 0.017046451568603516,
       "initial": 0,
       "n": 0,
       "ncols": null,
       "nrows": 47,
       "postfix": null,
       "prefix": "Downloading",
       "rate": null,
       "total": 570,
       "unit": "B",
       "unit_divisor": 1000,
       "unit_scale": true
      },
      "application/vnd.jupyter.widget-view+json": {
       "model_id": "aa79c62b76464193a7a30ebfa64e5d43",
       "version_major": 2,
       "version_minor": 0
      },
      "text/plain": [
       "Downloading:   0%|          | 0.00/570 [00:00<?, ?B/s]"
      ]
     },
     "metadata": {},
     "output_type": "display_data"
    },
    {
     "data": {
      "application/json": {
       "ascii": false,
       "bar_format": null,
       "colour": null,
       "elapsed": 0.016365766525268555,
       "initial": 0,
       "n": 0,
       "ncols": null,
       "nrows": 47,
       "postfix": null,
       "prefix": "Downloading",
       "rate": null,
       "total": 213450,
       "unit": "B",
       "unit_divisor": 1000,
       "unit_scale": true
      },
      "application/vnd.jupyter.widget-view+json": {
       "model_id": "efb99b6660a240aebaa517fbf81d4819",
       "version_major": 2,
       "version_minor": 0
      },
      "text/plain": [
       "Downloading:   0%|          | 0.00/213k [00:00<?, ?B/s]"
      ]
     },
     "metadata": {},
     "output_type": "display_data"
    },
    {
     "data": {
      "application/json": {
       "ascii": false,
       "bar_format": null,
       "colour": null,
       "elapsed": 0.01844048500061035,
       "initial": 0,
       "n": 0,
       "ncols": null,
       "nrows": 47,
       "postfix": null,
       "prefix": "Downloading",
       "rate": null,
       "total": 435797,
       "unit": "B",
       "unit_divisor": 1000,
       "unit_scale": true
      },
      "application/vnd.jupyter.widget-view+json": {
       "model_id": "2879743de12d40e4b4ba999caa4ee267",
       "version_major": 2,
       "version_minor": 0
      },
      "text/plain": [
       "Downloading:   0%|          | 0.00/436k [00:00<?, ?B/s]"
      ]
     },
     "metadata": {},
     "output_type": "display_data"
    }
   ],
   "source": [
    "# I had difficulties understanding how you obtained the tokenizer.\n",
    "# You seem to have a complex expression bringing both the tokenizer\n",
    "# and the model itself. We only need the tokenizer.\n",
    "# So the following only gets a tokenizer from HuggingFace hub.\n",
    "tokenizer = AutoTokenizer.from_pretrained('bert-base-cased')"
   ]
  },
  {
   "cell_type": "code",
   "execution_count": 6,
   "id": "d4b07648",
   "metadata": {},
   "outputs": [
    {
     "data": {
      "text/plain": [
       "{'input_ids': [101, 5893, 13824, 8010, 1107, 12014, 1180, 1129, 112, 5992, 112, 131, 23750, 9571, 118, 1109, 1291, 3225, 14213, 2705, 1113, 9031, 1163, 170, 10310, 13824, 18162, 1691, 1106, 1138, 1151, 1814, 1223, 1654, 1107, 12014, 117, 1133, 6926, 1103, 1397, 8010, 1156, 2620, 1129, 5992, 119, 107, 1109, 1397, 6580, 1180, 1129, 1167, 8481, 1137, 5992, 117, 107, 23750, 2524, 118, 1615, 6564, 5864, 24930, 3822, 4165, 144, 4638, 9730, 25014, 1361, 1500, 13509, 1107, 9571, 117, 25504, 1115, 107, 1103, 2486, 1110, 3021, 119, 107, 1760, 8010, 1104, 1241, 171, 10354, 13207, 13824, 117, 1134, 1110, 2819, 1118, 10594, 13475, 2258, 22593, 4490, 17905, 117, 1105, 185, 1673, 1818, 13207, 13824, 117, 2819, 1825, 1106, 1825, 117, 1144, 1841, 1167, 1190, 2363, 1234, 1107, 1103, 1890, 4879, 2248, 3790, 1290, 1360, 119, 12014, 1144, 3421, 171, 10354, 13207, 13824, 8010, 1116, 1593, 1451, 1214, 1290, 2253, 117, 1510, 2416, 1118, 13475, 14979, 3304, 8966, 119, 1109, 3653, 12246, 1106, 1294, 170, 14019, 1296, 2633, 21098, 1265, 117, 1121, 1347, 1106, 1364, 119, 1212, 1903, 117, 1206, 3127, 1105, 4372, 16565, 1132, 1802, 1451, 1214, 1621, 170, 1416, 8320, 1512, 1550, 1234, 117, 2452, 1106, 170, 7414, 10301, 119, 1252, 6564, 5864, 7350, 8819, 1115, 107, 13824, 1107, 12014, 18492, 1181, 1107, 170, 1304, 117, 1304, 1472, 1236, 1142, 1214, 119, 107, 9060, 1116, 16636, 1146, 1677, 2206, 1190, 4400, 1105, 117, 1939, 1104, 1217, 12597, 1106, 1103, 11408, 117, 1103, 3653, 1107, 8702, 6066, 5894, 4281, 119, 1109, 3912, 1802, 1167, 1190, 123, 1288, 2740, 117, 1105, 6564, 5864, 1163, 9031, 1103, 1473, 10484, 1866, 1120, 21606, 119, 1124, 1145, 3356, 1106, 1103, 2915, 1104, 1103, 185, 1673, 1818, 13207, 1683, 117, 1134, 23237, 1167, 3253, 1105, 1110, 1167, 191, 3161, 16564, 117, 1107, 1103, 6270, 8010, 119, 1124, 5185, 1103, 6099, 2593, 1121, 23750, 1105, 12014, 3912, 1115, 2375, 2498, 1103, 8010, 1223, 1654, 117, 1133, 6926, 1115, 1103, 5170, 1108, 1136, 1166, 119, 1109, 2610, 118, 1190, 118, 4400, 8010, 1125, 2375, 2819, 1103, 10548, 1115, 4680, 1103, 13824, 1167, 3409, 119, 1188, 1373, 1114, 2869, 23353, 1105, 9479, 1654, 1113, 12014, 2318, 1115, 107, 1165, 113, 1103, 13824, 114, 2502, 1254, 1122, 3816, 1121, 1167, 4482, 117, 1105, 1103, 10094, 1107, 1103, 1397, 6580, 1180, 1129, 2299, 1190, 1103, 1141, 1115, 1195, 1486, 117, 107, 6564, 5864, 1163, 119, 107, 1337, 2086, 1115, 12014, 1180, 1129, 4634, 1167, 117, 1105, 1136, 1178, 1115, 117, 1122, 1180, 1256, 16412, 1166, 1154, 9586, 2182, 1105, 2894, 117, 107, 1119, 6926, 119, 3291, 8223, 9538, 1916, 9479, 1654, 1110, 1103, 1864, 1115, 1103, 22593, 14517, 1115, 3564, 1103, 15821, 1733, 25397, 185, 2556, 1548, 10548, 1115, 4680, 1103, 13824, 1138, 9893, 1106, 1129, 3409, 13676, 1106, 13558, 1105, 15754, 25606, 119, 107, 1337, 112, 188, 170, 4249, 4612, 117, 107, 6564, 5864, 1163, 119, 102], 'token_type_ids': [0, 0, 0, 0, 0, 0, 0, 0, 0, 0, 0, 0, 0, 0, 0, 0, 0, 0, 0, 0, 0, 0, 0, 0, 0, 0, 0, 0, 0, 0, 0, 0, 0, 0, 0, 0, 0, 0, 0, 0, 0, 0, 0, 0, 0, 0, 0, 0, 0, 0, 0, 0, 0, 0, 0, 0, 0, 0, 0, 0, 0, 0, 0, 0, 0, 0, 0, 0, 0, 0, 0, 0, 0, 0, 0, 0, 0, 0, 0, 0, 0, 0, 0, 0, 0, 0, 0, 0, 0, 0, 0, 0, 0, 0, 0, 0, 0, 0, 0, 0, 0, 0, 0, 0, 0, 0, 0, 0, 0, 0, 0, 0, 0, 0, 0, 0, 0, 0, 0, 0, 0, 0, 0, 0, 0, 0, 0, 0, 0, 0, 0, 0, 0, 0, 0, 0, 0, 0, 0, 0, 0, 0, 0, 0, 0, 0, 0, 0, 0, 0, 0, 0, 0, 0, 0, 0, 0, 0, 0, 0, 0, 0, 0, 0, 0, 0, 0, 0, 0, 0, 0, 0, 0, 0, 0, 0, 0, 0, 0, 0, 0, 0, 0, 0, 0, 0, 0, 0, 0, 0, 0, 0, 0, 0, 0, 0, 0, 0, 0, 0, 0, 0, 0, 0, 0, 0, 0, 0, 0, 0, 0, 0, 0, 0, 0, 0, 0, 0, 0, 0, 0, 0, 0, 0, 0, 0, 0, 0, 0, 0, 0, 0, 0, 0, 0, 0, 0, 0, 0, 0, 0, 0, 0, 0, 0, 0, 0, 0, 0, 0, 0, 0, 0, 0, 0, 0, 0, 0, 0, 0, 0, 0, 0, 0, 0, 0, 0, 0, 0, 0, 0, 0, 0, 0, 0, 0, 0, 0, 0, 0, 0, 0, 0, 0, 0, 0, 0, 0, 0, 0, 0, 0, 0, 0, 0, 0, 0, 0, 0, 0, 0, 0, 0, 0, 0, 0, 0, 0, 0, 0, 0, 0, 0, 0, 0, 0, 0, 0, 0, 0, 0, 0, 0, 0, 0, 0, 0, 0, 0, 0, 0, 0, 0, 0, 0, 0, 0, 0, 0, 0, 0, 0, 0, 0, 0, 0, 0, 0, 0, 0, 0, 0, 0, 0, 0, 0, 0, 0, 0, 0, 0, 0, 0, 0, 0, 0, 0, 0, 0, 0, 0, 0, 0, 0, 0, 0, 0, 0, 0, 0, 0, 0, 0, 0, 0, 0, 0, 0, 0, 0, 0, 0, 0, 0, 0, 0, 0, 0, 0, 0, 0, 0, 0, 0, 0, 0, 0, 0, 0, 0, 0, 0, 0, 0, 0, 0, 0, 0, 0, 0, 0, 0, 0, 0, 0, 0, 0, 0, 0, 0, 0, 0, 0, 0, 0, 0, 0, 0, 0, 0, 0, 0, 0, 0, 0, 0, 0, 0, 0, 0, 0, 0, 0, 0, 0, 0, 0, 0, 0, 0, 0, 0, 0, 0, 0, 0, 0, 0, 0, 0, 0, 0, 0, 0, 0, 0, 0], 'attention_mask': [1, 1, 1, 1, 1, 1, 1, 1, 1, 1, 1, 1, 1, 1, 1, 1, 1, 1, 1, 1, 1, 1, 1, 1, 1, 1, 1, 1, 1, 1, 1, 1, 1, 1, 1, 1, 1, 1, 1, 1, 1, 1, 1, 1, 1, 1, 1, 1, 1, 1, 1, 1, 1, 1, 1, 1, 1, 1, 1, 1, 1, 1, 1, 1, 1, 1, 1, 1, 1, 1, 1, 1, 1, 1, 1, 1, 1, 1, 1, 1, 1, 1, 1, 1, 1, 1, 1, 1, 1, 1, 1, 1, 1, 1, 1, 1, 1, 1, 1, 1, 1, 1, 1, 1, 1, 1, 1, 1, 1, 1, 1, 1, 1, 1, 1, 1, 1, 1, 1, 1, 1, 1, 1, 1, 1, 1, 1, 1, 1, 1, 1, 1, 1, 1, 1, 1, 1, 1, 1, 1, 1, 1, 1, 1, 1, 1, 1, 1, 1, 1, 1, 1, 1, 1, 1, 1, 1, 1, 1, 1, 1, 1, 1, 1, 1, 1, 1, 1, 1, 1, 1, 1, 1, 1, 1, 1, 1, 1, 1, 1, 1, 1, 1, 1, 1, 1, 1, 1, 1, 1, 1, 1, 1, 1, 1, 1, 1, 1, 1, 1, 1, 1, 1, 1, 1, 1, 1, 1, 1, 1, 1, 1, 1, 1, 1, 1, 1, 1, 1, 1, 1, 1, 1, 1, 1, 1, 1, 1, 1, 1, 1, 1, 1, 1, 1, 1, 1, 1, 1, 1, 1, 1, 1, 1, 1, 1, 1, 1, 1, 1, 1, 1, 1, 1, 1, 1, 1, 1, 1, 1, 1, 1, 1, 1, 1, 1, 1, 1, 1, 1, 1, 1, 1, 1, 1, 1, 1, 1, 1, 1, 1, 1, 1, 1, 1, 1, 1, 1, 1, 1, 1, 1, 1, 1, 1, 1, 1, 1, 1, 1, 1, 1, 1, 1, 1, 1, 1, 1, 1, 1, 1, 1, 1, 1, 1, 1, 1, 1, 1, 1, 1, 1, 1, 1, 1, 1, 1, 1, 1, 1, 1, 1, 1, 1, 1, 1, 1, 1, 1, 1, 1, 1, 1, 1, 1, 1, 1, 1, 1, 1, 1, 1, 1, 1, 1, 1, 1, 1, 1, 1, 1, 1, 1, 1, 1, 1, 1, 1, 1, 1, 1, 1, 1, 1, 1, 1, 1, 1, 1, 1, 1, 1, 1, 1, 1, 1, 1, 1, 1, 1, 1, 1, 1, 1, 1, 1, 1, 1, 1, 1, 1, 1, 1, 1, 1, 1, 1, 1, 1, 1, 1, 1, 1, 1, 1, 1, 1, 1, 1, 1, 1, 1, 1, 1, 1, 1, 1, 1, 1, 1, 1, 1, 1, 1, 1, 1, 1, 1, 1, 1, 1, 1, 1, 1, 1, 1, 1, 1, 1, 1, 1, 1, 1, 1, 1, 1, 1, 1, 1, 1, 1, 1, 1, 1, 1, 1, 1, 1, 1, 1, 1, 1, 1, 1, 1, 1, 1]}"
      ]
     },
     "execution_count": 6,
     "metadata": {},
     "output_type": "execute_result"
    }
   ],
   "source": [
    "# The few cells below is to show what is happening with the tokenizer.\n",
    "# This is how to tokenize a single text.\n",
    "tokenizer(train_txt[0])"
   ]
  },
  {
   "cell_type": "code",
   "execution_count": 7,
   "id": "4dc1b2e1",
   "metadata": {},
   "outputs": [
    {
     "data": {
      "text/plain": [
       "['[CLS]',\n",
       " 'Next',\n",
       " 'plague',\n",
       " 'outbreak',\n",
       " 'in',\n",
       " 'Madagascar',\n",
       " 'could',\n",
       " 'be',\n",
       " \"'\",\n",
       " 'stronger',\n",
       " \"'\",\n",
       " ':',\n",
       " 'WHO',\n",
       " 'Geneva',\n",
       " '-',\n",
       " 'The',\n",
       " 'World',\n",
       " 'Health',\n",
       " 'Organisation',\n",
       " 'chief',\n",
       " 'on',\n",
       " 'Wednesday',\n",
       " 'said',\n",
       " 'a',\n",
       " 'deadly',\n",
       " 'plague',\n",
       " 'epidemic',\n",
       " 'appeared',\n",
       " 'to',\n",
       " 'have',\n",
       " 'been',\n",
       " 'brought',\n",
       " 'under',\n",
       " 'control',\n",
       " 'in',\n",
       " 'Madagascar',\n",
       " ',',\n",
       " 'but',\n",
       " 'warned',\n",
       " 'the',\n",
       " 'next',\n",
       " 'outbreak',\n",
       " 'would',\n",
       " 'likely',\n",
       " 'be',\n",
       " 'stronger',\n",
       " '.',\n",
       " '\"',\n",
       " 'The',\n",
       " 'next',\n",
       " 'transmission',\n",
       " 'could',\n",
       " 'be',\n",
       " 'more',\n",
       " 'pronounced',\n",
       " 'or',\n",
       " 'stronger',\n",
       " ',',\n",
       " '\"',\n",
       " 'WHO',\n",
       " 'Director',\n",
       " '-',\n",
       " 'General',\n",
       " 'Ted',\n",
       " '##ros',\n",
       " 'Ad',\n",
       " '##han',\n",
       " '##om',\n",
       " 'G',\n",
       " '##he',\n",
       " '##bre',\n",
       " '##yes',\n",
       " '##us',\n",
       " 'told',\n",
       " 'reporters',\n",
       " 'in',\n",
       " 'Geneva',\n",
       " ',',\n",
       " 'insisting',\n",
       " 'that',\n",
       " '\"',\n",
       " 'the',\n",
       " 'issue',\n",
       " 'is',\n",
       " 'serious',\n",
       " '.',\n",
       " '\"',\n",
       " 'An',\n",
       " 'outbreak',\n",
       " 'of',\n",
       " 'both',\n",
       " 'b',\n",
       " '##ub',\n",
       " '##onic',\n",
       " 'plague',\n",
       " ',',\n",
       " 'which',\n",
       " 'is',\n",
       " 'spread',\n",
       " 'by',\n",
       " 'infected',\n",
       " 'rats',\n",
       " 'via',\n",
       " 'fl',\n",
       " '##ea',\n",
       " 'bites',\n",
       " ',',\n",
       " 'and',\n",
       " 'p',\n",
       " '##ne',\n",
       " '##um',\n",
       " '##onic',\n",
       " 'plague',\n",
       " ',',\n",
       " 'spread',\n",
       " 'person',\n",
       " 'to',\n",
       " 'person',\n",
       " ',',\n",
       " 'has',\n",
       " 'killed',\n",
       " 'more',\n",
       " 'than',\n",
       " '200',\n",
       " 'people',\n",
       " 'in',\n",
       " 'the',\n",
       " 'Indian',\n",
       " 'Ocean',\n",
       " 'island',\n",
       " 'nation',\n",
       " 'since',\n",
       " 'August',\n",
       " '.',\n",
       " 'Madagascar',\n",
       " 'has',\n",
       " 'suffered',\n",
       " 'b',\n",
       " '##ub',\n",
       " '##onic',\n",
       " 'plague',\n",
       " 'outbreak',\n",
       " '##s',\n",
       " 'almost',\n",
       " 'every',\n",
       " 'year',\n",
       " 'since',\n",
       " '1980',\n",
       " ',',\n",
       " 'often',\n",
       " 'caused',\n",
       " 'by',\n",
       " 'rats',\n",
       " 'fleeing',\n",
       " 'forest',\n",
       " 'fires',\n",
       " '.',\n",
       " 'The',\n",
       " 'disease',\n",
       " 'tends',\n",
       " 'to',\n",
       " 'make',\n",
       " 'a',\n",
       " 'comeback',\n",
       " 'each',\n",
       " 'hot',\n",
       " 'rainy',\n",
       " 'season',\n",
       " ',',\n",
       " 'from',\n",
       " 'September',\n",
       " 'to',\n",
       " 'April',\n",
       " '.',\n",
       " 'On',\n",
       " 'average',\n",
       " ',',\n",
       " 'between',\n",
       " '300',\n",
       " 'and',\n",
       " '600',\n",
       " 'infections',\n",
       " 'are',\n",
       " 'recorded',\n",
       " 'every',\n",
       " 'year',\n",
       " 'among',\n",
       " 'a',\n",
       " 'population',\n",
       " 'approaching',\n",
       " '25',\n",
       " 'million',\n",
       " 'people',\n",
       " ',',\n",
       " 'according',\n",
       " 'to',\n",
       " 'a',\n",
       " 'UN',\n",
       " 'estimate',\n",
       " '.',\n",
       " 'But',\n",
       " 'Ted',\n",
       " '##ros',\n",
       " 'voiced',\n",
       " 'alarm',\n",
       " 'that',\n",
       " '\"',\n",
       " 'plague',\n",
       " 'in',\n",
       " 'Madagascar',\n",
       " 'behave',\n",
       " '##d',\n",
       " 'in',\n",
       " 'a',\n",
       " 'very',\n",
       " ',',\n",
       " 'very',\n",
       " 'different',\n",
       " 'way',\n",
       " 'this',\n",
       " 'year',\n",
       " '.',\n",
       " '\"',\n",
       " 'Case',\n",
       " '##s',\n",
       " 'sprang',\n",
       " 'up',\n",
       " 'far',\n",
       " 'earlier',\n",
       " 'than',\n",
       " 'usual',\n",
       " 'and',\n",
       " ',',\n",
       " 'instead',\n",
       " 'of',\n",
       " 'being',\n",
       " 'confined',\n",
       " 'to',\n",
       " 'the',\n",
       " 'countryside',\n",
       " ',',\n",
       " 'the',\n",
       " 'disease',\n",
       " 'in',\n",
       " '##fi',\n",
       " '##lt',\n",
       " '##rated',\n",
       " 'towns',\n",
       " '.',\n",
       " 'The',\n",
       " 'authorities',\n",
       " 'recorded',\n",
       " 'more',\n",
       " 'than',\n",
       " '2',\n",
       " '000',\n",
       " 'cases',\n",
       " ',',\n",
       " 'and',\n",
       " 'Ted',\n",
       " '##ros',\n",
       " 'said',\n",
       " 'Wednesday',\n",
       " 'the',\n",
       " 'death',\n",
       " 'toll',\n",
       " 'stood',\n",
       " 'at',\n",
       " '207',\n",
       " '.',\n",
       " 'He',\n",
       " 'also',\n",
       " 'pointed',\n",
       " 'to',\n",
       " 'the',\n",
       " 'presence',\n",
       " 'of',\n",
       " 'the',\n",
       " 'p',\n",
       " '##ne',\n",
       " '##um',\n",
       " '##onic',\n",
       " 'version',\n",
       " ',',\n",
       " 'which',\n",
       " 'spreads',\n",
       " 'more',\n",
       " 'easily',\n",
       " 'and',\n",
       " 'is',\n",
       " 'more',\n",
       " 'v',\n",
       " '##ir',\n",
       " '##ulent',\n",
       " ',',\n",
       " 'in',\n",
       " 'the',\n",
       " 'latest',\n",
       " 'outbreak',\n",
       " '.',\n",
       " 'He',\n",
       " 'praised',\n",
       " 'the',\n",
       " 'rapid',\n",
       " 'response',\n",
       " 'from',\n",
       " 'WHO',\n",
       " 'and',\n",
       " 'Madagascar',\n",
       " 'authorities',\n",
       " 'that',\n",
       " 'helped',\n",
       " 'bring',\n",
       " 'the',\n",
       " 'outbreak',\n",
       " 'under',\n",
       " 'control',\n",
       " ',',\n",
       " 'but',\n",
       " 'warned',\n",
       " 'that',\n",
       " 'the',\n",
       " 'danger',\n",
       " 'was',\n",
       " 'not',\n",
       " 'over',\n",
       " '.',\n",
       " 'The',\n",
       " 'larger',\n",
       " '-',\n",
       " 'than',\n",
       " '-',\n",
       " 'usual',\n",
       " 'outbreak',\n",
       " 'had',\n",
       " 'helped',\n",
       " 'spread',\n",
       " 'the',\n",
       " 'bacteria',\n",
       " 'that',\n",
       " 'causes',\n",
       " 'the',\n",
       " 'plague',\n",
       " 'more',\n",
       " 'widely',\n",
       " '.',\n",
       " 'This',\n",
       " 'along',\n",
       " 'with',\n",
       " 'poor',\n",
       " 'sanitation',\n",
       " 'and',\n",
       " 'vector',\n",
       " 'control',\n",
       " 'on',\n",
       " 'Madagascar',\n",
       " 'meant',\n",
       " 'that',\n",
       " '\"',\n",
       " 'when',\n",
       " '(',\n",
       " 'the',\n",
       " 'plague',\n",
       " ')',\n",
       " 'comes',\n",
       " 'again',\n",
       " 'it',\n",
       " 'starts',\n",
       " 'from',\n",
       " 'more',\n",
       " 'stock',\n",
       " ',',\n",
       " 'and',\n",
       " 'the',\n",
       " 'magnitude',\n",
       " 'in',\n",
       " 'the',\n",
       " 'next',\n",
       " 'transmission',\n",
       " 'could',\n",
       " 'be',\n",
       " 'higher',\n",
       " 'than',\n",
       " 'the',\n",
       " 'one',\n",
       " 'that',\n",
       " 'we',\n",
       " 'saw',\n",
       " ',',\n",
       " '\"',\n",
       " 'Ted',\n",
       " '##ros',\n",
       " 'said',\n",
       " '.',\n",
       " '\"',\n",
       " 'That',\n",
       " 'means',\n",
       " 'that',\n",
       " 'Madagascar',\n",
       " 'could',\n",
       " 'be',\n",
       " 'affected',\n",
       " 'more',\n",
       " ',',\n",
       " 'and',\n",
       " 'not',\n",
       " 'only',\n",
       " 'that',\n",
       " ',',\n",
       " 'it',\n",
       " 'could',\n",
       " 'even',\n",
       " 'spill',\n",
       " 'over',\n",
       " 'into',\n",
       " 'neighbouring',\n",
       " 'countries',\n",
       " 'and',\n",
       " 'beyond',\n",
       " ',',\n",
       " '\"',\n",
       " 'he',\n",
       " 'warned',\n",
       " '.',\n",
       " 'Co',\n",
       " '##mp',\n",
       " '##lica',\n",
       " '##ting',\n",
       " 'vector',\n",
       " 'control',\n",
       " 'is',\n",
       " 'the',\n",
       " 'fact',\n",
       " 'that',\n",
       " 'the',\n",
       " 'fl',\n",
       " '##eas',\n",
       " 'that',\n",
       " 'carry',\n",
       " 'the',\n",
       " 'Ye',\n",
       " '##rs',\n",
       " '##inia',\n",
       " 'p',\n",
       " '##est',\n",
       " '##is',\n",
       " 'bacteria',\n",
       " 'that',\n",
       " 'causes',\n",
       " 'the',\n",
       " 'plague',\n",
       " 'have',\n",
       " 'proven',\n",
       " 'to',\n",
       " 'be',\n",
       " 'widely',\n",
       " 'resistant',\n",
       " 'to',\n",
       " 'chemicals',\n",
       " 'and',\n",
       " 'insect',\n",
       " '##icides',\n",
       " '.',\n",
       " '\"',\n",
       " 'That',\n",
       " \"'\",\n",
       " 's',\n",
       " 'a',\n",
       " 'dangerous',\n",
       " 'combination',\n",
       " ',',\n",
       " '\"',\n",
       " 'Ted',\n",
       " '##ros',\n",
       " 'said',\n",
       " '.',\n",
       " '[SEP]']"
      ]
     },
     "execution_count": 7,
     "metadata": {},
     "output_type": "execute_result"
    }
   ],
   "source": [
    "# We can use the token ids above (with some care),\n",
    "# but we can also get the actual texts of the tokens.\n",
    "tok = tokenizer(train_txt[0])\n",
    "tokenizer.convert_ids_to_tokens(tok.input_ids)"
   ]
  },
  {
   "cell_type": "code",
   "execution_count": 8,
   "id": "aee4c51b",
   "metadata": {
    "scrolled": true
   },
   "outputs": [
    {
     "name": "stderr",
     "output_type": "stream",
     "text": [
      "Token indices sequence length is longer than the specified maximum sequence length for this model (692 > 512). Running this sequence through the model will result in indexing errors\n"
     ]
    }
   ],
   "source": [
    "# Now we can do this for real.\n",
    "# The following is similar to calling the tokenizer,\n",
    "# but tokenizes all the texts in batch - generally faster.\n",
    "# It will warn, but we will not use it with BERT, so no worries.\n",
    "train_tokenized = tokenizer.batch_encode_plus(train_txt, truncation=False, padding=False)"
   ]
  },
  {
   "cell_type": "code",
   "execution_count": 10,
   "id": "bc0be48f",
   "metadata": {},
   "outputs": [],
   "source": [
    "train_tokens = [tokenizer.convert_ids_to_tokens(x) for x in train_tokenized.input_ids]\n",
    "# Now we have a list of lists with each member a string token."
   ]
  },
  {
   "cell_type": "code",
   "execution_count": 15,
   "id": "6072aeb9",
   "metadata": {},
   "outputs": [
    {
     "data": {
      "text/plain": [
       "(150, 10648, 1219.027713625866, 0.8244803695150116)"
      ]
     },
     "execution_count": 15,
     "metadata": {},
     "output_type": "execute_result"
    },
    {
     "data": {
      "image/png": "[encoded data removed]",
      "text/plain": [
       "<Figure size 640x480 with 1 Axes>"
      ]
     },
     "metadata": {},
     "output_type": "display_data"
    }
   ],
   "source": [
    "lendist = [len(x) for x in train_tokens]\n",
    "_ = plt.hist(lendist)\n",
    "min(lendist), max(lendist), sum(lendist)/len(lendist), sum([l > 512 for l in lendist])/len(lendist)\n",
    "# We now have even longer sequences - 80% of the documents would be truncated if we feed them\n",
    "# to a pretrained model with sequence length of 512 tokens."
   ]
  },
  {
   "cell_type": "code",
   "execution_count": 11,
   "id": "e9c9b84e",
   "metadata": {},
   "outputs": [],
   "source": [
    "# now, we can vectorize this with sklearn,\n",
    "# However, we want to skip any tokenization/processing\n",
    "# by the sklearn tokenizers.\n",
    "# Note that this only does singl-token features.\n",
    "# If we want token n-grams, we need to either pre-process our input token list,\n",
    "# or pass an analyzer that returns n-gram features.\n",
    "vec = TfidfVectorizer(analyzer=lambda x: x)\n",
    "train_X = vec.fit_transform(train_tokens)"
   ]
  },
  {
   "cell_type": "code",
   "execution_count": 12,
   "id": "4d9ecb0d",
   "metadata": {},
   "outputs": [
    {
     "data": {
      "text/html": [
       "<style>#sk-container-id-1 {color: black;background-color: white;}#sk-container-id-1 pre{padding: 0;}#sk-container-id-1 div.sk-toggleable {background-color: white;}#sk-container-id-1 label.sk-toggleable__label {cursor: pointer;display: block;width: 100%;margin-bottom: 0;padding: 0.3em;box-sizing: border-box;text-align: center;}#sk-container-id-1 label.sk-toggleable__label-arrow:before {content: \"▸\";float: left;margin-right: 0.25em;color: #696969;}#sk-container-id-1 label.sk-toggleable__label-arrow:hover:before {color: black;}#sk-container-id-1 div.sk-estimator:hover label.sk-toggleable__label-arrow:before {color: black;}#sk-container-id-1 div.sk-toggleable__content {max-height: 0;max-width: 0;overflow: hidden;text-align: left;background-color: #f0f8ff;}#sk-container-id-1 div.sk-toggleable__content pre {margin: 0.2em;color: black;border-radius: 0.25em;background-color: #f0f8ff;}#sk-container-id-1 input.sk-toggleable__control:checked~div.sk-toggleable__content {max-height: 200px;max-width: 100%;overflow: auto;}#sk-container-id-1 input.sk-toggleable__control:checked~label.sk-toggleable__label-arrow:before {content: \"▾\";}#sk-container-id-1 div.sk-estimator input.sk-toggleable__control:checked~label.sk-toggleable__label {background-color: #d4ebff;}#sk-container-id-1 div.sk-label input.sk-toggleable__control:checked~label.sk-toggleable__label {background-color: #d4ebff;}#sk-container-id-1 input.sk-hidden--visually {border: 0;clip: rect(1px 1px 1px 1px);clip: rect(1px, 1px, 1px, 1px);height: 1px;margin: -1px;overflow: hidden;padding: 0;position: absolute;width: 1px;}#sk-container-id-1 div.sk-estimator {font-family: monospace;background-color: #f0f8ff;border: 1px dotted black;border-radius: 0.25em;box-sizing: border-box;margin-bottom: 0.5em;}#sk-container-id-1 div.sk-estimator:hover {background-color: #d4ebff;}#sk-container-id-1 div.sk-parallel-item::after {content: \"\";width: 100%;border-bottom: 1px solid gray;flex-grow: 1;}#sk-container-id-1 div.sk-label:hover label.sk-toggleable__label {background-color: #d4ebff;}#sk-container-id-1 div.sk-serial::before {content: \"\";position: absolute;border-left: 1px solid gray;box-sizing: border-box;top: 0;bottom: 0;left: 50%;z-index: 0;}#sk-container-id-1 div.sk-serial {display: flex;flex-direction: column;align-items: center;background-color: white;padding-right: 0.2em;padding-left: 0.2em;position: relative;}#sk-container-id-1 div.sk-item {position: relative;z-index: 1;}#sk-container-id-1 div.sk-parallel {display: flex;align-items: stretch;justify-content: center;background-color: white;position: relative;}#sk-container-id-1 div.sk-item::before, #sk-container-id-1 div.sk-parallel-item::before {content: \"\";position: absolute;border-left: 1px solid gray;box-sizing: border-box;top: 0;bottom: 0;left: 50%;z-index: -1;}#sk-container-id-1 div.sk-parallel-item {display: flex;flex-direction: column;z-index: 1;position: relative;background-color: white;}#sk-container-id-1 div.sk-parallel-item:first-child::after {align-self: flex-end;width: 50%;}#sk-container-id-1 div.sk-parallel-item:last-child::after {align-self: flex-start;width: 50%;}#sk-container-id-1 div.sk-parallel-item:only-child::after {width: 0;}#sk-container-id-1 div.sk-dashed-wrapped {border: 1px dashed gray;margin: 0 0.4em 0.5em 0.4em;box-sizing: border-box;padding-bottom: 0.4em;background-color: white;}#sk-container-id-1 div.sk-label label {font-family: monospace;font-weight: bold;display: inline-block;line-height: 1.2em;}#sk-container-id-1 div.sk-label-container {text-align: center;}#sk-container-id-1 div.sk-container {/* jupyter's `normalize.less` sets `[hidden] { display: none; }` but bootstrap.min.css set `[hidden] { display: none !important; }` so we also need the `!important` here to be able to override the default hidden behavior on the sphinx rendered scikit-learn.org. See: https://github.com/scikit-learn/scikit-learn/issues/21755 */display: inline-block !important;position: relative;}#sk-container-id-1 div.sk-text-repr-fallback {display: none;}</style><div id=\"sk-container-id-1\" class=\"sk-top-container\"><div class=\"sk-text-repr-fallback\"><pre>LogisticRegression()</pre><b>In a Jupyter environment, please rerun this cell to show the HTML representation or trust the notebook. <br />On GitHub, the HTML representation is unable to render, please try loading this page with nbviewer.org.</b></div><div class=\"sk-container\" hidden><div class=\"sk-item\"><div class=\"sk-estimator sk-toggleable\"><input class=\"sk-toggleable__control sk-hidden--visually\" id=\"sk-estimator-id-1\" type=\"checkbox\" checked><label for=\"sk-estimator-id-1\" class=\"sk-toggleable__label sk-toggleable__label-arrow\">LogisticRegression</label><div class=\"sk-toggleable__content\"><pre>LogisticRegression()</pre></div></div></div></div></div>"
      ],
      "text/plain": [
       "LogisticRegression()"
      ]
     },
     "execution_count": 12,
     "metadata": {},
     "output_type": "execute_result"
    }
   ],
   "source": [
    "# Now we can use any sklearn classifier, or set up a pipleline as you did\n",
    "# I'll be lazy here.\n",
    "clf = LogisticRegression()\n",
    "clf.fit(train_X, train_lab)"
   ]
  },
  {
   "cell_type": "code",
   "execution_count": 13,
   "id": "0ffe684f",
   "metadata": {},
   "outputs": [],
   "source": [
    "# Now, convert the development set before the same way:\n",
    "dev_txt = read_data('Data/data/en/dev-articles-subtask-1/')\n",
    "dev_tokenized = tokenizer.batch_encode_plus(dev_txt, truncation=False, padding=False)\n",
    "dev_tokens = [tokenizer.convert_ids_to_tokens(x) for x in dev_tokenized.input_ids]\n",
    "dev_X = vec.transform(dev_tokens)"
   ]
  },
  {
   "cell_type": "code",
   "execution_count": 14,
   "id": "2d4c489b",
   "metadata": {
    "scrolled": true
   },
   "outputs": [
    {
     "data": {
      "text/plain": [
       "array(['opinion', 'opinion', 'opinion', 'opinion', 'opinion', 'opinion',\n",
       "       'opinion', 'opinion', 'opinion', 'opinion', 'opinion', 'opinion',\n",
       "       'opinion', 'opinion', 'opinion', 'opinion', 'opinion', 'opinion',\n",
       "       'opinion', 'opinion', 'opinion', 'opinion', 'opinion', 'opinion',\n",
       "       'opinion', 'opinion', 'opinion', 'opinion', 'opinion', 'opinion',\n",
       "       'opinion', 'opinion', 'opinion', 'opinion', 'opinion', 'opinion',\n",
       "       'opinion', 'opinion', 'opinion', 'opinion', 'opinion', 'opinion',\n",
       "       'opinion', 'opinion', 'opinion', 'opinion', 'opinion', 'opinion',\n",
       "       'opinion', 'opinion', 'opinion', 'opinion', 'opinion', 'opinion',\n",
       "       'opinion', 'opinion', 'opinion', 'opinion', 'opinion', 'opinion',\n",
       "       'opinion', 'opinion', 'opinion', 'opinion', 'opinion', 'opinion',\n",
       "       'opinion', 'opinion', 'opinion', 'opinion', 'opinion', 'opinion',\n",
       "       'opinion', 'opinion', 'reporting', 'opinion', 'opinion', 'opinion',\n",
       "       'opinion', 'opinion', 'opinion', 'opinion', 'opinion'], dtype='<U9')"
      ]
     },
     "execution_count": 14,
     "metadata": {},
     "output_type": "execute_result"
    }
   ],
   "source": [
    "pred = clf.predict(dev_X)\n",
    "pred\n",
    "# Not great results without further experimentation,\n",
    "# but conceptually this should be help."
   ]
  },
  {
   "cell_type": "code",
   "execution_count": 60,
   "id": "edf403c0",
   "metadata": {},
   "outputs": [
    {
     "data": {
      "text/plain": [
       "['a', 'b', 'c', 'd', 'a-b', 'b-c', 'c-d', 'a-b-c', 'b-c-d']"
      ]
     },
     "execution_count": 60,
     "metadata": {},
     "output_type": "execute_result"
    }
   ],
   "source": [
    "# Bonus: using  subword-token ngrams\n",
    "# the following function returns n-gram ranges of a given sequence.\n",
    "def get_ngrams(s, ngmin, ngmax, separator=\"-\", suffix=\"\", flatten=True):\n",
    "    \"\"\" For the given sequence s. Return all ngrams in range ngmin-ngmax.\n",
    "        spearator is useful for readability\n",
    "        suffix is an arbitrary string useful for distinguishing\n",
    "                in case differernt types of ngrams\n",
    "        if flatten is false, a list of lists is returned where the\n",
    "                first element contains the ngrams of size ngmin\n",
    "                and the last contains the ngrams of size ngmax\n",
    "    \"\"\"\n",
    "\n",
    "    # return a single dummy feature if there are no applicable ngrams\n",
    "    # probably resulting in a mojority-class classifier\n",
    "    if ngmax == 0 or (ngmax - ngmin < 0) :\n",
    "        return ['__dummy__']\n",
    "\n",
    "    ngrams = [[] for x in range(1, ngmax + 1)]\n",
    "    for i, ch in enumerate(s):\n",
    "        for ngsize in range(ngmin, ngmax + 1):\n",
    "            if (i + ngsize) <= len(s):\n",
    "                ngrams[ngsize - 1].append(\n",
    "                        separator.join(s[i:i+ngsize]) + suffix)\n",
    "    if flatten:\n",
    "        ngrams = [ng for nglist in ngrams for ng in nglist]\n",
    "    return ngrams\n",
    "# example usage\n",
    "get_ngrams(['a', 'b', 'c', 'd'], 1, 3)"
   ]
  },
  {
   "cell_type": "code",
   "execution_count": 63,
   "id": "4c7b2d2f",
   "metadata": {},
   "outputs": [],
   "source": [
    "# now we can vectorize using this 'analyzer'\n",
    "vec = TfidfVectorizer(analyzer=lambda x: get_ngrams(x, 1, 3))\n",
    "train_X = vec.fit_transform(train_tokens)"
   ]
  },
  {
   "cell_type": "code",
   "execution_count": 65,
   "id": "2458c322",
   "metadata": {},
   "outputs": [
    {
     "data": {
      "text/plain": [
       "array(['opinion', 'opinion', 'opinion', 'opinion', 'opinion', 'opinion',\n",
       "       'opinion', 'opinion', 'opinion', 'opinion', 'opinion', 'opinion',\n",
       "       'opinion', 'opinion', 'opinion', 'opinion', 'opinion', 'opinion',\n",
       "       'opinion', 'opinion', 'opinion', 'opinion', 'opinion', 'opinion',\n",
       "       'opinion', 'opinion', 'opinion', 'opinion', 'opinion', 'opinion',\n",
       "       'opinion', 'opinion', 'opinion', 'opinion', 'opinion', 'opinion',\n",
       "       'opinion', 'opinion', 'opinion', 'opinion', 'opinion', 'opinion',\n",
       "       'opinion', 'opinion', 'opinion', 'opinion', 'opinion', 'opinion',\n",
       "       'opinion', 'opinion', 'opinion', 'opinion', 'opinion', 'opinion',\n",
       "       'opinion', 'opinion', 'opinion', 'opinion', 'opinion', 'opinion',\n",
       "       'opinion', 'opinion', 'reporting', 'opinion', 'opinion', 'opinion',\n",
       "       'opinion', 'opinion', 'opinion', 'opinion', 'opinion', 'opinion',\n",
       "       'opinion', 'opinion', 'reporting', 'opinion', 'opinion', 'opinion',\n",
       "       'opinion', 'opinion', 'reporting', 'opinion', 'opinion'],\n",
       "      dtype='<U9')"
      ]
     },
     "execution_count": 65,
     "metadata": {},
     "output_type": "execute_result"
    }
   ],
   "source": [
    "# train the model again - if tuned well,\n",
    "# this should work better since it has more information.\n",
    "clf = LogisticRegression(C=5.0)\n",
    "clf.fit(train_X, train_lab)\n",
    "# re-vectorize the devset\n",
    "dev_X = vec.transform(dev_tokens)\n",
    "# predict\n",
    "clf.predict(dev_X)"
   ]
  }
 ],
 "metadata": {
  "kernelspec": {
   "display_name": "Python 3 (ipykernel)",
   "language": "python",
   "name": "python3"
  },
  "language_info": {
   "codemirror_mode": {
    "name": "ipython",
    "version": 3
   },
   "file_extension": ".py",
   "mimetype": "text/x-python",
   "name": "python",
   "nbconvert_exporter": "python",
   "pygments_lexer": "ipython3",
   "version": "3.10.0"
  }
 },
 "nbformat": 4,
 "nbformat_minor": 5
}
